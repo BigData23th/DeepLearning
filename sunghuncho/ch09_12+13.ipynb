{
  "nbformat": 4,
  "nbformat_minor": 0,
  "metadata": {
    "colab": {
      "provenance": [],
      "include_colab_link": true
    },
    "kernelspec": {
      "name": "python3",
      "display_name": "Python 3"
    },
    "language_info": {
      "name": "python"
    }
  },
  "cells": [
    {
      "cell_type": "markdown",
      "metadata": {
        "id": "view-in-github",
        "colab_type": "text"
      },
      "source": [
        "<a href=\"https://colab.research.google.com/github/chohoon901/DeepLearning/blob/main/sunghuncho/ch09_12%2B13.ipynb\" target=\"_parent\"><img src=\"https://colab.research.google.com/assets/colab-badge.svg\" alt=\"Open In Colab\"/></a>"
      ]
    },
    {
      "cell_type": "markdown",
      "source": [
        "# LSTM & Seq2Seq & Transformer"
      ],
      "metadata": {
        "id": "PopnM6LlEzJm"
      }
    },
    {
      "cell_type": "markdown",
      "source": [
        "## Course"
      ],
      "metadata": {
        "id": "aT523pfcE4et"
      }
    },
    {
      "cell_type": "markdown",
      "source": [
        "> 딥러닝 신경망에서 LSTM이 뭐야? RNN과의 차이점을 중심으로 설명해줘. PyTorch 코드 예시와 함께\n",
        "* 장기 의존성, 입력 시퀀스, 기울기 소실\n",
        "* 게이트(Gate) 메커니즘, 망각 게이트, 입력 게이트, 출력 게이트\n",
        "* 셀(Cell) 상태, 은닉 상태(Hidden state)\n",
        "* https://sharegpt.com/c/M3iL1gM\n",
        "\n",
        "> LSTM의 구조와 원리를 구체적인 비유와 실생활의 개념을 바탕으로 설명해줘\n",
        "* https://shareg.pt/4XF0dza"
      ],
      "metadata": {
        "id": "CT7cI3lNFfVl"
      }
    },
    {
      "cell_type": "markdown",
      "source": [
        "> LSTM을 통한 자연어 처리 및 문제 해결의 예시를 3가지 들어줘\n",
        "* https://sharegpt.com/c/QATjAWT\n",
        "\n",
        "> LSTM을 통해서 비디오 분석 또는 오디오 분석을 했을 때의 예제와 그 코드 및 데이터를 3개 제시해줘\n",
        "* https://sharegpt.com/c/GpbjF9q"
      ],
      "metadata": {
        "id": "A0tQEGGAHhJL"
      }
    },
    {
      "cell_type": "markdown",
      "source": [
        "> PyTorch 딥러닝에서 LSTM을 통해서 문장 생성 프로젝트를 진행할 때, 한국어 자연어 전처리 및 후처리에 대한 필요한 내용들에 대해서 구체적으로 설명해줘\n",
        "* https://sharegpt.com/c/Ng1VUyP"
      ],
      "metadata": {
        "id": "Wf8b0SnNI8dA"
      }
    },
    {
      "cell_type": "markdown",
      "source": [
        "## Challenge"
      ],
      "metadata": {
        "id": "cw3uuTj9E57P"
      }
    },
    {
      "cell_type": "markdown",
      "source": [
        "## Creativity"
      ],
      "metadata": {
        "id": "Z6edUbAUE7le"
      }
    },
    {
      "cell_type": "code",
      "execution_count": null,
      "metadata": {
        "id": "IYmVJ1WUEW-e"
      },
      "outputs": [],
      "source": []
    }
  ]
}